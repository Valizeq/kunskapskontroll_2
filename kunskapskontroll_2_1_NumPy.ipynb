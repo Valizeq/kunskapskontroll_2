{
 "cells": [
  {
   "cell_type": "markdown",
   "id": "dacf74e6",
   "metadata": {},
   "source": [
    "# NumPy"
   ]
  },
  {
   "cell_type": "markdown",
   "id": "01b2bf34",
   "metadata": {},
   "source": [
    "Read the links: https://numpy.org/doc/stable/user/quickstart.html  and https://numpy.org/doc/stable/user/basics.broadcasting.html  before solving the exercises. "
   ]
  },
  {
   "cell_type": "code",
   "execution_count": 330,
   "id": "1f79e4a6",
   "metadata": {},
   "outputs": [],
   "source": [
    "import numpy as np"
   ]
  },
  {
   "cell_type": "markdown",
   "id": "7dae6889",
   "metadata": {},
   "source": [
    "### Print out the dimension (number of axes), shape, size and the datatype of the matrix A."
   ]
  },
  {
   "cell_type": "code",
   "execution_count": 331,
   "id": "7b3678cd",
   "metadata": {},
   "outputs": [],
   "source": [
    "A = np.arange(1, 16).reshape(3,5)"
   ]
  },
  {
   "cell_type": "code",
   "execution_count": 332,
   "id": "31d39235",
   "metadata": {},
   "outputs": [
    {
     "name": "stdout",
     "output_type": "stream",
     "text": [
      "2\n",
      "(3, 5)\n",
      "15\n",
      "int64\n"
     ]
    }
   ],
   "source": [
    "print(A.ndim)\n",
    "print(A.shape)\n",
    "print(A.size)\n",
    "print(A.dtype)"
   ]
  },
  {
   "cell_type": "markdown",
   "id": "e56d2a96",
   "metadata": {},
   "source": [
    "### Do the following computations on the matrices B and C: \n",
    "* Elementwise subtraction. \n",
    "* Elementwise multiplication. \n",
    "* Matrix multiplication (by default you should use the @ operator)."
   ]
  },
  {
   "cell_type": "code",
   "execution_count": 333,
   "id": "a7053fbb",
   "metadata": {},
   "outputs": [
    {
     "name": "stdout",
     "output_type": "stream",
     "text": [
      "[[1 2 3]\n",
      " [4 5 6]\n",
      " [7 8 9]]\n",
      "\n",
      "[[2. 2. 2.]\n",
      " [2. 2. 2.]\n",
      " [2. 2. 2.]]\n"
     ]
    }
   ],
   "source": [
    "B = np.arange(1, 10).reshape(3, 3)\n",
    "C = np.ones((3, 3))*2\n",
    "\n",
    "print(B)\n",
    "print()\n",
    "print(C)"
   ]
  },
  {
   "cell_type": "code",
   "execution_count": 334,
   "id": "3cd794ae",
   "metadata": {},
   "outputs": [
    {
     "name": "stdout",
     "output_type": "stream",
     "text": [
      "[[-1.  0.  1.]\n",
      " [ 2.  3.  4.]\n",
      " [ 5.  6.  7.]]\n",
      "[[ 2.  4.  6.]\n",
      " [ 8. 10. 12.]\n",
      " [14. 16. 18.]]\n",
      "[[12. 12. 12.]\n",
      " [30. 30. 30.]\n",
      " [48. 48. 48.]]\n"
     ]
    }
   ],
   "source": [
    "print(B - C)\n",
    "print(B * C)\n",
    "print(B @ C)"
   ]
  },
  {
   "cell_type": "markdown",
   "id": "96030d53",
   "metadata": {},
   "source": [
    "### Do the following calculations on the matrix:\n",
    "* Exponentiate each number elementwise (use the np.exp function).\n",
    "\n",
    "* Calculate the minimum value in the whole matrix. \n",
    "* Calculcate the minimum value in each row. \n",
    "* Calculcate the minimum value in each column. \n",
    "\n",
    "\n",
    "* Find the index value for the minimum value in the whole matrix (hint: use np.argmin).\n",
    "* Find the index value for the minimum value in each row (hint: use np.argmin).\n",
    "\n",
    "\n",
    "* Calculate the sum for all elements.\n",
    "* Calculate the mean for each column. \n",
    "* Calculate the median for each column. "
   ]
  },
  {
   "cell_type": "code",
   "execution_count": 335,
   "id": "f8a9166b",
   "metadata": {},
   "outputs": [
    {
     "name": "stdout",
     "output_type": "stream",
     "text": [
      "[[1 2 3]\n",
      " [4 5 6]\n",
      " [7 8 9]]\n"
     ]
    }
   ],
   "source": [
    "B = np.arange(1, 10).reshape(3, 3)\n",
    "print(B)"
   ]
  },
  {
   "cell_type": "code",
   "execution_count": 336,
   "id": "f03f24f7",
   "metadata": {},
   "outputs": [
    {
     "name": "stdout",
     "output_type": "stream",
     "text": [
      "[[2.71828183e+00 7.38905610e+00 2.00855369e+01]\n",
      " [5.45981500e+01 1.48413159e+02 4.03428793e+02]\n",
      " [1.09663316e+03 2.98095799e+03 8.10308393e+03]]\n",
      "1\n",
      "[1 4 7]\n",
      "[1 2 3]\n",
      "0\n",
      "[0 0 0]\n",
      "45\n",
      "[4. 5. 6.]\n",
      "[4. 5. 6.]\n"
     ]
    }
   ],
   "source": [
    "print(np.exp(B))\n",
    "print(np.min(B))\n",
    "print(np.min(B, axis=1))\n",
    "print(np.min(B, axis=0))\n",
    "print(np.argmin(B))\n",
    "print(np.argmin(B, axis=1))\n",
    "print(np.sum(B))\n",
    "print(np.mean(B, axis=0))\n",
    "print(np.median(B, axis=0))"
   ]
  },
  {
   "cell_type": "markdown",
   "id": "541eb7ba",
   "metadata": {},
   "source": [
    "### What does it mean when you provide fewer indices than axes when slicing? See example below."
   ]
  },
  {
   "cell_type": "code",
   "execution_count": 337,
   "id": "9c8abf56",
   "metadata": {},
   "outputs": [
    {
     "name": "stdout",
     "output_type": "stream",
     "text": [
      "[[ 1  2  3  4  5]\n",
      " [ 6  7  8  9 10]\n",
      " [11 12 13 14 15]]\n"
     ]
    }
   ],
   "source": [
    "print(A)"
   ]
  },
  {
   "cell_type": "code",
   "execution_count": 338,
   "id": "69415f7b",
   "metadata": {},
   "outputs": [
    {
     "data": {
      "text/plain": [
       "array([ 6,  7,  8,  9, 10])"
      ]
     },
     "execution_count": 338,
     "metadata": {},
     "output_type": "execute_result"
    }
   ],
   "source": [
    "A[1]"
   ]
  },
  {
   "cell_type": "markdown",
   "id": "6c53541b",
   "metadata": {},
   "source": [
    "**Answer:**"
   ]
  },
  {
   "cell_type": "code",
   "execution_count": 339,
   "id": "de01e120",
   "metadata": {},
   "outputs": [],
   "source": [
    "### When you provide fewer indices than we have axes numpy assume that we want all elements along the missing axes. A1 means that it gives me the second row (index 1)."
   ]
  },
  {
   "cell_type": "markdown",
   "id": "6652d0c9",
   "metadata": {},
   "source": [
    "### Iterating over multidimensional arrays is done with respect to the first axis, so in the example below we iterate trough the rows. If you would like to iterate through the array *elementwise*, how would you do that?"
   ]
  },
  {
   "cell_type": "code",
   "execution_count": 340,
   "id": "9459864f",
   "metadata": {},
   "outputs": [
    {
     "data": {
      "text/plain": [
       "array([[ 1,  2,  3,  4,  5],\n",
       "       [ 6,  7,  8,  9, 10],\n",
       "       [11, 12, 13, 14, 15]])"
      ]
     },
     "execution_count": 340,
     "metadata": {},
     "output_type": "execute_result"
    }
   ],
   "source": [
    "A"
   ]
  },
  {
   "cell_type": "code",
   "execution_count": 341,
   "id": "a671bb5a",
   "metadata": {},
   "outputs": [
    {
     "name": "stdout",
     "output_type": "stream",
     "text": [
      "[1 2 3 4 5]\n",
      "[ 6  7  8  9 10]\n",
      "[11 12 13 14 15]\n"
     ]
    }
   ],
   "source": [
    "for i in A:\n",
    "    print(i)"
   ]
  },
  {
   "cell_type": "code",
   "execution_count": 342,
   "id": "03b5a6d0",
   "metadata": {},
   "outputs": [
    {
     "name": "stdout",
     "output_type": "stream",
     "text": [
      "1\n",
      "2\n",
      "3\n",
      "4\n",
      "5\n",
      "6\n",
      "7\n",
      "8\n",
      "9\n",
      "10\n",
      "11\n",
      "12\n",
      "13\n",
      "14\n",
      "15\n"
     ]
    }
   ],
   "source": [
    "for row in A:\n",
    "    for element in row:\n",
    "        print(element)"
   ]
  },
  {
   "cell_type": "code",
   "execution_count": 343,
   "id": "cab0a692",
   "metadata": {},
   "outputs": [
    {
     "name": "stdout",
     "output_type": "stream",
     "text": [
      "1\n",
      "2\n",
      "3\n",
      "4\n",
      "5\n",
      "6\n",
      "7\n",
      "8\n",
      "9\n",
      "10\n",
      "11\n",
      "12\n",
      "13\n",
      "14\n",
      "15\n"
     ]
    }
   ],
   "source": [
    "for element in np.nditer(A):\n",
    "    print(element)"
   ]
  },
  {
   "cell_type": "code",
   "execution_count": 344,
   "id": "f4e443a0",
   "metadata": {},
   "outputs": [],
   "source": [
    "### You can use nested loops and np.nditer() that is more efficient and handles more complex cases.\n",
    "### np.nditer is a efficient multi-dimensional iterator object to iterate over arrays (numpy.org). "
   ]
  },
  {
   "cell_type": "markdown",
   "id": "608a2583",
   "metadata": {},
   "source": [
    "### Explain what the code below does. More specifically, b has three axes - what does this mean? "
   ]
  },
  {
   "cell_type": "code",
   "execution_count": 345,
   "id": "f8f9b26f",
   "metadata": {},
   "outputs": [
    {
     "name": "stdout",
     "output_type": "stream",
     "text": [
      "[ 0  1  2  3  4  5  6  7  8  9 10 11 12 13 14 15 16 17 18 19 20 21 22 23\n",
      " 24 25 26 27 28 29]\n",
      "\n",
      "[[[ 0  1  2  3  4]\n",
      "  [ 5  6  7  8  9]\n",
      "  [10 11 12 13 14]]\n",
      "\n",
      " [[15 16 17 18 19]\n",
      "  [20 21 22 23 24]\n",
      "  [25 26 27 28 29]]]\n"
     ]
    }
   ],
   "source": [
    "a = np.arange(30)\n",
    "b = a.reshape((2, 3, -1))\n",
    "print(a)\n",
    "print()\n",
    "\n",
    "print(b)"
   ]
  },
  {
   "cell_type": "code",
   "execution_count": 346,
   "id": "863a45df",
   "metadata": {},
   "outputs": [],
   "source": [
    "### b is an 3 dimensional array. 2 stands for 2 blocks of data, 3 stands for that each block of datavhas 3 rows and 5 is that each row has 5 elements. -1 turns to 5 because Numpy automatically \n",
    "### determine the size of the third axis so Numpy sets the size of the third axis to 5 to make the total number of the elements equal to 30. -1 is a way to tel Numpy that it can calculate the axis\n",
    "### for me instead from manually figuring out the size of that axis by yourself. "
   ]
  },
  {
   "cell_type": "markdown",
   "id": "421c9607-819a-401d-949a-97424436fe29",
   "metadata": {},
   "source": [
    "# For the exercises below, read the document *\"matematik_yh_antonio_vektorer_matriser_utdrag\"*\n",
    "# Solutions to the exercises and recorded videos can be found here: https://github.com/AntonioPrgomet/matematik_foer_yh\n",
    "\n",
    "# If you find the exercises below very hard, do not worry. Try your best, that will be enough. "
   ]
  },
  {
   "cell_type": "markdown",
   "id": "ab5933d5",
   "metadata": {},
   "source": [
    "### Broadcasting\n",
    "**Read the following link about broadcasting: https://numpy.org/doc/stable/user/basics.broadcasting.html#basics-broadcasting**"
   ]
  },
  {
   "cell_type": "markdown",
   "id": "039805ba",
   "metadata": {},
   "source": [
    "# Remark on Broadcasting when doing Linear Algebra calculations in Python. "
   ]
  },
  {
   "cell_type": "markdown",
   "id": "c4bcc147",
   "metadata": {},
   "source": [
    "### From the mathematical rules of matrix addition, the operation below (m1 + m2) does not make sense. The reason is that matrix addition requires two matrices of the same size. In Python however, it works due to broadcasting rules in NumPy. So you must be careful when doing Linear Algebra calculations in Python since they do not follow the \"mathematical rules\". This can however easily be handled by doing some simple programming, for example validating that two matrices have the same shape is easy if you for instance want to add two matrices. "
   ]
  },
  {
   "cell_type": "code",
   "execution_count": 347,
   "id": "1fd46778",
   "metadata": {},
   "outputs": [
    {
     "name": "stdout",
     "output_type": "stream",
     "text": [
      "[[2 3]\n",
      " [4 5]]\n"
     ]
    }
   ],
   "source": [
    "m1 = np.array([[1, 2], [3, 4]])\n",
    "m2 = np.array([1, 1])\n",
    "print(m1 + m2)"
   ]
  },
  {
   "cell_type": "markdown",
   "id": "047d6576",
   "metadata": {},
   "source": [
    "### The example below would also not be allowed if following the \"mathematical rules\" in Linear Algebra. But it works due to broadcasting in NumPy. "
   ]
  },
  {
   "cell_type": "code",
   "execution_count": 348,
   "id": "5e6ef2e4",
   "metadata": {},
   "outputs": [
    {
     "name": "stdout",
     "output_type": "stream",
     "text": [
      "[2 3 4]\n"
     ]
    }
   ],
   "source": [
    "v1 = np.array([1, 2, 3])\n",
    "print(v1 + 1)"
   ]
  },
  {
   "cell_type": "code",
   "execution_count": 349,
   "id": "e2cbae26",
   "metadata": {},
   "outputs": [
    {
     "name": "stdout",
     "output_type": "stream",
     "text": [
      "[[1 2]\n",
      " [3 4]]\n",
      "[2 2]\n"
     ]
    }
   ],
   "source": [
    "A = np.arange(1, 5).reshape(2,2)\n",
    "print(A)\n",
    "\n",
    "b = np.array([2, 2])\n",
    "print(b)"
   ]
  },
  {
   "cell_type": "markdown",
   "id": "722fd5cd",
   "metadata": {},
   "source": [
    "# Vector- and matrix algebra Exercises"
   ]
  },
  {
   "cell_type": "markdown",
   "id": "b63a3081-d976-4d9f-bfd0-a63917e79f7d",
   "metadata": {},
   "source": [
    "**Now you are going to create a function that can be reused every time you add or multiply matrices. The function is created so that we do the addition and multiplication according to the rules of vector- and matrix algebra.**\n",
    "\n",
    "**Create a function \"add_mult_matrices\" that takes two matrices as input arguments (validate that the input are of the type numpy.ndarray by using the isinstance function), a third argument that is either 'add' or 'multiply' that specifies if you want to add or multiply the matrices (validate that the third argument is either 'add' or 'multiply'). When doing matrix addition, validate that the matrices have the same size. When doing matrix multiplication, validate that the sizes conform (i.e. number of columns in the first matrix is equal to the number of rows in the second matrix).**"
   ]
  },
  {
   "cell_type": "code",
   "execution_count": 350,
   "id": "6fa8ef87",
   "metadata": {},
   "outputs": [
    {
     "name": "stdout",
     "output_type": "stream",
     "text": [
      "[[10 10 10]]\n",
      "[[ 9 16 21]]\n"
     ]
    }
   ],
   "source": [
    "def add_mult_matrices(arg1,arg2,operation):\n",
    "    if not isinstance(arg1, np.ndarray) or not isinstance (arg2, np.ndarray):\n",
    "        raise ValueError ('the given arguments are not matrices')\n",
    "\n",
    "    if operation == 'add':\n",
    "        if arg1.size == arg2.size:\n",
    "            return arg1 + arg2\n",
    "        else:\n",
    "            raise ValueError ('The matrices do not have the same sizze..')\n",
    "    elif operation == 'multiply':\n",
    "        if arg1.size == arg2.size:\n",
    "            return arg1 * arg2\n",
    "        else: \n",
    "            raise ValueError ('The matrices do not have the same shape..')\n",
    "A = np.array ([[1, 2, 3]])\n",
    "B = np.array ([[9, 8, 7]])\n",
    "print(add_mult_matrices(A, B, 'add'))\n",
    "print(add_mult_matrices(A, B, 'multiply'))"
   ]
  },
  {
   "cell_type": "markdown",
   "id": "8dad82d0-2359-4dff-8f5b-a57d3e34103c",
   "metadata": {},
   "source": [
    "### Solve all the exercises in chapter 10.1 in the book \"Matematik för yrkeshögskolan\" by using Python. "
   ]
  },
  {
   "cell_type": "code",
   "execution_count": 351,
   "id": "89df88af-3668-4d98-a0a4-e6d92eea0f89",
   "metadata": {},
   "outputs": [
    {
     "name": "stdout",
     "output_type": "stream",
     "text": [
      "a\n",
      "(2,)\n",
      "b\n",
      "[20 15]\n",
      "c\n",
      "[12  9]\n",
      "d\n",
      "[32 24]\n",
      "e\n",
      "[32 24]\n",
      "f\n",
      "[12  9]\n",
      "g\n",
      "[[4]\n",
      " [3]]\n",
      "h\n",
      "[[8 7]\n",
      " [7 6]]\n",
      "i\n",
      "5.0\n"
     ]
    }
   ],
   "source": [
    "# Uppgift 10.1.1. Definiera vektorn X enligt nedan.\n",
    "\n",
    "x = np.array([4, 3])\n",
    "\n",
    "#a: Vilken dimension har vektorn x?\n",
    "#svar: Dimensionen x har två komponenter så vektorn x är 2 då den består av 2 tal.\n",
    "print(\"a\")\n",
    "print(x.shape)\n",
    "\n",
    "#b: Beräkna 5x\n",
    "#svar: Då x=5 multiplicerar vi 5x4=20 och 5x3=15, svar blir 5x=(20, 15).\n",
    "print(\"b\")\n",
    "five_x = 5 *  x\n",
    "print(five_x)\n",
    "\n",
    "# c: Beräkna 3x\n",
    "# svar: Då x=3 multiplicerar vi 3x4=12 och 3x3=9, svar blir 3x=(12, 9). \n",
    "print(\"c\")\n",
    "three_x = 3 * x\n",
    "print(three_x)\n",
    "\n",
    "#d: Beräkna 5x + 3x\n",
    "#svar: Från tidigare uppgift fick vi fram att 5x=(20,15) och 3x=(12, 9). Nu adderar vi dessa resultat och får (20, 15)+(12, 9)=(20+12)+(15+9=24) och får svaret (32, 24).\n",
    "print(\"d\")\n",
    "result_add = five_x + three_x\n",
    "print(five_x + three_x)\n",
    "\n",
    "#e: Beräkna 8x\n",
    "#svar: Då x=8 multiplicerar vi 8x4=32 och 8x3=24, svar blir 8x=(32, 24).\n",
    "print(\"e\")\n",
    "eight_x = 8 * x\n",
    "print(eight_x)\n",
    "\n",
    "#f: Beräkna 4x-x\n",
    "#svar: Då x=4 blir subtraktionen 4x4 + 4x3 - x=(4 ,3) = (16, 12) - (4, 3) = (12, 9)\n",
    "print(\"f\")\n",
    "four_x = 4 * x\n",
    "print(four_x - x)\n",
    "\n",
    "#g: Beräkna xT, vilken blir den nya dimensionen efter att transponeringen utförts?\n",
    "#svar: Radvektorn omvandlats till en kolumnvektor. \n",
    "print(\"g\")\n",
    "x_transponering = x.reshape(-1, 1)\n",
    "print(x_transponering)\n",
    "\n",
    "#h: Är x + xT definierat?\n",
    "#svar: Nej, då vektorerna inte har samma dimensioner. \n",
    "print(\"h\")\n",
    "def_xT = x + x_transponering\n",
    "print(def_xT)\n",
    "\n",
    "#i= Beräkna ||x||.\n",
    "#svar: ||x|| = roten av 4^2 + 3^2 = 25, roten av 25≈5\n",
    "print(\"i\")\n",
    "normen_x = np.linalg.norm(x)\n",
    "print(normen_x)\n",
    "\n",
    "\n",
    "\n"
   ]
  },
  {
   "cell_type": "code",
   "execution_count": 352,
   "id": "51abbeb9",
   "metadata": {},
   "outputs": [
    {
     "name": "stdout",
     "output_type": "stream",
     "text": [
      "a\n",
      "(4,)\n",
      "b\n",
      "[ 6 14  0 22]\n",
      "c\n",
      "[21 49  0 77]\n",
      "d\n",
      "[ 6 14  0 22]\n",
      "e\n",
      "[[ 3  7  0 11]]\n",
      "f\n",
      "13.379088160259652\n"
     ]
    }
   ],
   "source": [
    "# Uppgift 10.1.2 Definiera vektorn v enligt nedan.\n",
    "\n",
    "v = np.array([3, 7, 0, 11])\n",
    "\n",
    "#a: Vilken dimension har vektorn v?\n",
    "#Svar:\n",
    "print(\"a\")\n",
    "print(v.shape)\n",
    "\n",
    "#b: Beräkna 2v\n",
    "#Svar:\n",
    "print(\"b\")\n",
    "two_v = 2 * v\n",
    "print(two_v)\n",
    "\n",
    "#c: Beräkna 5v +  2v\n",
    "#svar:\n",
    "print(\"c\")\n",
    "five_v = 5 * v\n",
    "result_add = five_v + two_v \n",
    "print(five_v + two_v)\n",
    "\n",
    "#d: Beräkna 4v - 2v\n",
    "#svar: \n",
    "print(\"d\")\n",
    "four_v = 4 * v \n",
    "result_add = four_v - two_v\n",
    "print(four_v - two_v)\n",
    "\n",
    "#e: Beräkna vT, vilken blir den nya dimensionen efter att transponering utförts?\n",
    "#svar: \n",
    "print(\"e\")\n",
    "v_transponering = v.reshape(1, -1)\n",
    "print(v_transponering)\n",
    "\n",
    "#f: beräkna ||v||\n",
    "#svar: \n",
    "print(\"f\")\n",
    "normen_v = np.linalg.norm(v)\n",
    "print(normen_v)\n",
    "\n"
   ]
  },
  {
   "cell_type": "code",
   "execution_count": 353,
   "id": "eb0be595",
   "metadata": {},
   "outputs": [
    {
     "name": "stdout",
     "output_type": "stream",
     "text": [
      "a\n",
      "7.14142842854285\n",
      "b\n",
      "3.2684450823354334\n"
     ]
    }
   ],
   "source": [
    "#Uppgift 10.1.3 Definiera vektorerna v1 = (4, 3, 1, 5) och v2= (2, 3, 1, 1)\n",
    "\n",
    "v1 = np.array ([4, 3, 1, 5])\n",
    "v2 = np.array ([2, 3, 1, 1])\n",
    "\n",
    "#a: Beräkna ||v1||.\n",
    "#svar: \n",
    "print(\"a\")\n",
    "normen_v1 = np.linalg.norm(v1)\n",
    "print(normen_v1)\n",
    "\n",
    "#b: Beräkna ||v1-v2||\n",
    "#Svar:\n",
    "print(\"b\")\n",
    "normen_v2 = np.linalg.norm(v2)\n",
    "\n",
    "result_add = normen_v1 - normen_v2\n",
    "print(result_add)"
   ]
  },
  {
   "cell_type": "markdown",
   "id": "75c98984-1f88-4df1-b850-d2466de444a5",
   "metadata": {},
   "source": [
    "### Solve all the exercises, except 10.2.4, in chapter 10.2 in the book \"Matematik för yrkeshögskolan\" by using Python. "
   ]
  },
  {
   "cell_type": "code",
   "execution_count": 354,
   "id": "65371610-16e1-48b2-b7fb-65e49002608a",
   "metadata": {},
   "outputs": [
    {
     "name": "stdout",
     "output_type": "stream",
     "text": [
      "a\n",
      "[[ 4  2 -2]\n",
      " [ 2 -2  2]]\n",
      "b\n",
      "[[ 0 -4  3]\n",
      " [ 0 -2 -4]]\n",
      "c\n",
      "[[ 1  2]\n",
      " [ 4 -1]]\n",
      "d\n",
      "[[3 2]\n",
      " [2 3]]\n",
      "e\n",
      "[[ 9 12]\n",
      " [12  9]]\n",
      "f\n",
      "[[-4 -4]\n",
      " [-4 -4]]\n",
      "g\n",
      "Ej definierat\n",
      "h\n",
      "Ej definierat\n"
     ]
    }
   ],
   "source": [
    "#Uppgift 10.2.1. Definiera matriserna:\n",
    "\n",
    "A = np.array([[2, 1, -1], [1, -1, 1]])\n",
    "B = np.array([[4, -2, 1], [2, -4, -2]])\n",
    "C = np.array([[1, 2], [2, 1]])\n",
    "D = np.array([[3, 4], [4, 3]])\n",
    "E = np.array([1, 2])\n",
    "I = np.array([[1, 0], [0, 1]])\n",
    "\n",
    "#a: Beräkna 2A\n",
    "print(\"a\")\n",
    "two_A = 2 * A\n",
    "print(two_A)\n",
    "\n",
    "#b: Beräkna B-2A\n",
    "#svar: \n",
    "print(\"b\")\n",
    "result = B - two_A\n",
    "print(result)\n",
    "\n",
    "#c: Beräkna 3C-2E\n",
    "#svar: (egentligen ej definierat)\n",
    "print(\"c\")\n",
    "three_C = 3 * C\n",
    "two_E = 2 * E\n",
    "result = three_C - two_E\n",
    "print(result)\n",
    "\n",
    "#d: Beräkna 2D - 3C\n",
    "#svar: \n",
    "print(\"d\")\n",
    "two_D = 2 * D\n",
    "three_C = 3 * C\n",
    "result = two_D - three_C\n",
    "print(result)\n",
    "\n",
    "#e: Beräkna DT + 2D\n",
    "#svar: \n",
    "print(\"e\")\n",
    "D_transponering = D.T\n",
    "result = D_transponering + two_D\n",
    "print(result)\n",
    "\n",
    "#f: Beräkna 2CT - 2DT\n",
    "#svar: \n",
    "print(\"f\")\n",
    "two_C = 2 * C\n",
    "two_c = np.array\n",
    "two_C_transponering = two_C.T\n",
    "two_D_transponering = two_D.T\n",
    "result = two_C_transponering - two_D_transponering\n",
    "print(result)\n",
    "\n",
    "#g: Beräkna AT-B\n",
    "#svar: \n",
    "print(\"g\")\n",
    "A_transponering = A.T\n",
    "try:\n",
    "    result = A_transponering - B\n",
    "except:\n",
    "    print(\"Ej definierat\")\n",
    "\n",
    "#h: Beräkna AC\n",
    "#Svar:\n",
    "print(\"h\")\n",
    "try:\n",
    "    result = A @ C\n",
    "    print(result)\n",
    "except:\n",
    "    print(\"Ej definierat\")\n"
   ]
  },
  {
   "cell_type": "code",
   "execution_count": 355,
   "id": "22ed78ba",
   "metadata": {},
   "outputs": [
    {
     "name": "stdout",
     "output_type": "stream",
     "text": [
      "i\n",
      "[[11 10]\n",
      " [10 11]]\n",
      "j\n",
      "[[  8 -10  -3]\n",
      " [ 10  -8   0]]\n",
      "k\n",
      "[[1 2]\n",
      " [2 1]]\n",
      "l\n",
      "[[5 2]\n",
      " [7 4]]\n"
     ]
    }
   ],
   "source": [
    "#i: Beräkna CD\n",
    "#Svar: \n",
    "print(\"i\")\n",
    "result = C @ D\n",
    "print(result)\n",
    "\n",
    "#j: Beräkna CB\n",
    "#Svar: \n",
    "print(\"j\")\n",
    "result = C @ B\n",
    "print(result)\n",
    "\n",
    "#k: Beräkna CI\n",
    "#Svar: \n",
    "print(\"k\")\n",
    "result = C @ I\n",
    "print(result)\n",
    "\n",
    "#l: Beräkna ABT\n",
    "#svar:\n",
    "print(\"l\")\n",
    "B_transponering = B.T\n",
    "result = A @ B_transponering\n",
    "print(result)\n",
    "\n",
    "#print(A @ B.T)"
   ]
  },
  {
   "cell_type": "code",
   "execution_count": 356,
   "id": "bb6d05da",
   "metadata": {},
   "outputs": [
    {
     "name": "stdout",
     "output_type": "stream",
     "text": [
      "[[29 26]\n",
      " [26 42]]\n"
     ]
    }
   ],
   "source": [
    "#Uppgift 10.2.2 Definiera matrisen\n",
    "A = np.array([[2, 3, 4], [5, 4, 1]])\n",
    "\n",
    "A_transponering = A.T\n",
    "result = A @ A_transponering\n",
    "print(result)"
   ]
  },
  {
   "cell_type": "code",
   "execution_count": 357,
   "id": "176650b0",
   "metadata": {},
   "outputs": [
    {
     "name": "stdout",
     "output_type": "stream",
     "text": [
      "AB är lika med AC\n",
      "[[ 4  7]\n",
      " [ 8 14]]\n",
      "[[ 4  7]\n",
      " [ 8 14]]\n",
      "B är inte lika med C\n",
      "[[8 8]\n",
      " [4 9]]\n"
     ]
    }
   ],
   "source": [
    "#Uppgift 10.2.3. Definiera matriserna\n",
    "\n",
    "A = np.array([[1, 2], [2, 4]])\n",
    "B = np.array([[2, 1], [1, 3]])\n",
    "C = np.array([[4, 3], [0, 2]])\n",
    "\n",
    "AB = A @ B\n",
    "AC = A @ C\n",
    "BC = B @ C\n",
    "\n",
    "\n",
    "if np.array_equal(AB, AC):\n",
    "    print(\"AB är lika med AC\")\n",
    "else:\n",
    "    print(\"AB är inte lika med AC\")\n",
    "    \n",
    "print(A @ B)\n",
    "print(A @ C)\n",
    "\n",
    "if np.array_equal(B, C):\n",
    "    print(\"B är lika med C\")\n",
    "else:\n",
    "    print(\"B är inte lika med C\")\n",
    "\n",
    "print(B @ C)"
   ]
  },
  {
   "cell_type": "markdown",
   "id": "6a4a524f",
   "metadata": {},
   "source": [
    "### Copies and Views\n",
    "Read the following link: https://numpy.org/doc/stable/user/basics.copies.html"
   ]
  },
  {
   "cell_type": "markdown",
   "id": "6cbbeaf7",
   "metadata": {},
   "source": [
    "**Basic indexing creates a view, How can you check if v1 and v2 is a view or copy? If you change the last element in v2 to 123, will the last element in v1 be changed? Why?**"
   ]
  },
  {
   "cell_type": "code",
   "execution_count": 358,
   "id": "5b9ef4df",
   "metadata": {},
   "outputs": [
    {
     "name": "stdout",
     "output_type": "stream",
     "text": [
      "[0 1 2 3]\n",
      "[3]\n"
     ]
    }
   ],
   "source": [
    "v1 = np.arange(4)\n",
    "v2 = v1[-1:]\n",
    "print(v1)\n",
    "print(v2)"
   ]
  },
  {
   "cell_type": "code",
   "execution_count": 359,
   "id": "d2440489",
   "metadata": {},
   "outputs": [
    {
     "name": "stdout",
     "output_type": "stream",
     "text": [
      "None\n",
      "[0 1 2 3]\n"
     ]
    }
   ],
   "source": [
    "# The base attribute of a view returns the original array while it returns None for a copy.\n",
    "print(v1.base)\n",
    "print(v2.base)"
   ]
  },
  {
   "cell_type": "code",
   "execution_count": 360,
   "id": "c8752807",
   "metadata": {},
   "outputs": [
    {
     "name": "stdout",
     "output_type": "stream",
     "text": [
      "[  0   1   2 123]\n",
      "[123]\n"
     ]
    }
   ],
   "source": [
    "# The last element in v1 will be changed aswell since v2 is a view, meaning they share the same data buffer.\n",
    "v2[-1] = 123\n",
    "print(v1)\n",
    "print(v2)"
   ]
  },
  {
   "cell_type": "code",
   "execution_count": 361,
   "id": "85f92a59",
   "metadata": {},
   "outputs": [],
   "source": [
    "# Answer: v1 is a copy, v2 is original array, you can check by use the base attribute. Any changes made to a view reflects the original copy. However changes to the copy do not reflect on the original array. "
   ]
  },
  {
   "cell_type": "code",
   "execution_count": 362,
   "id": "3d42ef4d",
   "metadata": {},
   "outputs": [],
   "source": [
    "#If you change the last element in v2 to 123, will the last element in v1 be changed? Why?\n",
    "#Answer: Yes because v2 is a view into v1 and we can see that the last element of v1 changes to 123. "
   ]
  }
 ],
 "metadata": {
  "kernelspec": {
   "display_name": "base",
   "language": "python",
   "name": "python3"
  },
  "language_info": {
   "codemirror_mode": {
    "name": "ipython",
    "version": 3
   },
   "file_extension": ".py",
   "mimetype": "text/x-python",
   "name": "python",
   "nbconvert_exporter": "python",
   "pygments_lexer": "ipython3",
   "version": "3.12.7"
  }
 },
 "nbformat": 4,
 "nbformat_minor": 5
}
